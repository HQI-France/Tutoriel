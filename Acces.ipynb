{
 "cells": [
  {
   "cell_type": "markdown",
   "metadata": {},
   "source": [
    "# Création d'un compte DARI"
   ]
  },
  {
   "cell_type": "markdown",
   "metadata": {},
   "source": [
    "## Rendez-vous sur www.edari.fr"
   ]
  },
  {
   "cell_type": "markdown",
   "metadata": {},
   "source": [
    "![image.png](image/dari1.png)"
   ]
  },
  {
   "cell_type": "markdown",
   "metadata": {},
   "source": [
    "Ceci fait, créer un dossier de demande d'heure et suivez les instructions"
   ]
  },
  {
   "cell_type": "markdown",
   "metadata": {},
   "source": [
    "![image.png](image/dari2.png)"
   ]
  },
  {
   "cell_type": "markdown",
   "metadata": {},
   "source": [
    "![image.png](image/dari3.png)"
   ]
  },
  {
   "cell_type": "markdown",
   "metadata": {},
   "source": [
    "![image.png](image/dari4.png)"
   ]
  },
  {
   "cell_type": "markdown",
   "metadata": {},
   "source": [
    "![image.png](<image/dari5.png>)"
   ]
  },
  {
   "cell_type": "markdown",
   "metadata": {},
   "source": [
    "Puis cocher vos logiciels parmi ceux disponible et vos besoins"
   ]
  },
  {
   "cell_type": "markdown",
   "metadata": {},
   "source": [
    "Une fois la procédure terminé et l'accès au TGCC accordé, suivez les instructions reçu par mail pour vous connecter."
   ]
  },
  {
   "cell_type": "markdown",
   "metadata": {},
   "source": [
    "### Une fois les accès reçu"
   ]
  },
  {
   "cell_type": "markdown",
   "metadata": {},
   "source": [
    "Dans un terminal :"
   ]
  },
  {
   "cell_type": "code",
   "execution_count": null,
   "metadata": {},
   "outputs": [],
   "source": [
    "ssh <login>@irene-eu.ccc.cea.fr"
   ]
  },
  {
   "cell_type": "markdown",
   "metadata": {},
   "source": [
    "puis rentrer votre mot de passe comme indiqué dans le mail, et suivez la procédure de changement de mot de passe"
   ]
  },
  {
   "cell_type": "markdown",
   "metadata": {},
   "source": [
    "### Chargement des modules appropriés"
   ]
  },
  {
   "cell_type": "markdown",
   "metadata": {},
   "source": [
    "Une fois connecté au noaud frontale"
   ]
  },
  {
   "cell_type": "markdown",
   "metadata": {},
   "source": [
    "![irene1.png](image/irene1.png)"
   ]
  },
  {
   "cell_type": "markdown",
   "metadata": {},
   "source": [
    "Charger les modules nécessaire"
   ]
  },
  {
   "cell_type": "code",
   "execution_count": null,
   "metadata": {},
   "outputs": [],
   "source": [
    "module load python3"
   ]
  },
  {
   "cell_type": "code",
   "execution_count": null,
   "metadata": {},
   "outputs": [],
   "source": [
    "module load myqlm"
   ]
  },
  {
   "cell_type": "markdown",
   "metadata": {},
   "source": [
    "### Démarrer une session de visualisation"
   ]
  },
  {
   "cell_type": "code",
   "execution_count": null,
   "metadata": {},
   "outputs": [],
   "source": [
    "ccc_visu virtual -p hybrid"
   ]
  },
  {
   "cell_type": "markdown",
   "metadata": {},
   "source": [
    "# Accéder au ressource de calcul quantique du programme HQI"
   ]
  },
  {
   "cell_type": "markdown",
   "metadata": {},
   "source": [
    "L'un des volets du programme HQI (France Hybrid Quantum Initiative) est la mise à disposition d'une plateforme de calcul hybride, interconnectant systèmes de calcul classiques et dispositifs quantiques, vus alors comme des accélérateurs. Elle sera mise à disposition d’une communauté internationale regroupant des laboratoires, des startups et des industriels. L’objectif ? Faciliter leur accès aux capacités de calcul quantique, afin d’être en mesure d’identifier, de développer et de tester de nouveaux cas d’usages."
   ]
  },
  {
   "cell_type": "markdown",
   "metadata": {},
   "source": [
    "## La plateforme de calcul quantique "
   ]
  },
  {
   "cell_type": "markdown",
   "metadata": {},
   "source": [
    "Piloté par GENCI (Grand Equipement National de Calcul Intensif), Infrastructure de recherche IR*, l'acquisition de simulateurs et calculateurs quantiques met déjà à disposition du grand public un accès à la pile logicielle du TGCC (Très Grand centre de Calcul du CEA)."
   ]
  },
  {
   "cell_type": "markdown",
   "metadata": {},
   "source": [
    "# Procédure d'accès via le DARI (Demande d'Attribution de Ressources Informatiques)"
   ]
  },
  {
   "cell_type": "markdown",
   "metadata": {},
   "source": [
    "Afin de bénéficier de la puissance de calcul quantique du programme HQI, il est nécessaire de se créer un compte via la plateforme DARI sur www.edari.fr"
   ]
  },
  {
   "cell_type": "markdown",
   "metadata": {},
   "source": [
    "une fois le compte créé, selon vos besoins, vous devez demander un accès Dynamique ou Régulier (on privilégiera l'accès Dynamique pour les petits projets).\n",
    "Une fois toute la procédure complété."
   ]
  }
 ],
 "metadata": {
  "kernelspec": {
   "display_name": "Python 3",
   "language": "python",
   "name": "python3"
  },
  "language_info": {
   "codemirror_mode": {
    "name": "ipython",
    "version": 3
   },
   "file_extension": ".py",
   "mimetype": "text/x-python",
   "name": "python",
   "nbconvert_exporter": "python",
   "pygments_lexer": "ipython3",
   "version": "3.11.9"
  }
 },
 "nbformat": 4,
 "nbformat_minor": 2
}
