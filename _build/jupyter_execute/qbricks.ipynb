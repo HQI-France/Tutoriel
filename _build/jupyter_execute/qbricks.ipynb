{
 "cells": [
  {
   "cell_type": "markdown",
   "id": "c1fc589d",
   "metadata": {},
   "source": [
    "# Qbricks\n",
    "\n",
    "\n",
    "<img src=\"https://user-images.githubusercontent.com/83573296/120336791-fdbf9f00-c2f2-11eb-986b-5116dbe7bb71.png\" align=\"right\" alt=\"drawing\" width=\"350\"  >\n",
    "\n",
    "[Qbricks](https://github.com/Qbricks/qbricks.github.io) est un environnement open-source pour la vérification formelle automatisée des programmes quantiques. Il permet d'écrire des programmes de construction de circuits quantiques, spécifiés avec leurs fonctions d'E/S et/ou leurs besoins en ressources. Son langage hôte, l'environnement de vérification déductive Why3, fournit une interface, permettant un haut niveau d'automatisation dans la vérification des spécifications Qbricks.\n",
    "\n",
    "```{seealso}\n",
    "L'article des auteurs de Qbricks : [An Automated Deductive Verification Framework for Circuit-building Quantum Programs](https://github.com/Qbricks/qbricks.github.io/files/6414263/final--ESOP-2021.pdf)\n",
    "```\n",
    "\n",
    "## Méthode formelle\n",
    "\n",
    "Dans de nombreux domaines critiques (nucléaire, ferroviaire, etc.), il est nécessaire de garantir l'absence de bugs dans les logiciels. Pour cela, les méthodes formelles apparaissent comme des techniques efficaces permettant de raisonner logiquement sur un programme informatique, afin de démontrer la validité de ce dernier par rapport à une spécification.\n",
    "\n",
    "## Exemple : QFT ou Deutsch-Jozsa"
   ]
  }
 ],
 "metadata": {
  "jupytext": {
   "formats": "md:myst",
   "text_representation": {
    "extension": ".md",
    "format_name": "myst",
    "format_version": 0.13,
    "jupytext_version": "1.11.5"
   }
  },
  "kernelspec": {
   "display_name": "Python 3",
   "language": "python",
   "name": "python3"
  },
  "source_map": [
   13
  ]
 },
 "nbformat": 4,
 "nbformat_minor": 5
}